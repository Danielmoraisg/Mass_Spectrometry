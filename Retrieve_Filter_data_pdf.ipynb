{
 "cells": [
  {
   "cell_type": "markdown",
   "metadata": {},
   "source": [
    "# Importing Library to work with \"pdf\" files "
   ]
  },
  {
   "cell_type": "code",
   "execution_count": 1,
   "metadata": {},
   "outputs": [],
   "source": [
    "import PyPDF2"
   ]
  },
  {
   "cell_type": "markdown",
   "metadata": {},
   "source": [
    "# Convert data to a workable form "
   ]
  },
  {
   "cell_type": "code",
   "execution_count": 2,
   "metadata": {},
   "outputs": [],
   "source": [
    "file = open('Sample.pdf', 'rb')\n",
    "pdf = PyPDF2.PdfFileReader(file)\n",
    "pgs = pdf.getNumPages()\n",
    "lista = []"
   ]
  },
  {
   "cell_type": "code",
   "execution_count": 3,
   "metadata": {},
   "outputs": [],
   "source": [
    "for pg in range(pdf.getNumPages()):\n",
    "    page = pdf.getPage(pg)\n",
    "    text = str(page.extractText())\n",
    "    data = text.split(\"NIST11.L\")[1][0:207]\n",
    "    for linha in data.split(\"\\n\"):\n",
    "        if \"  \" in linha:\n",
    "            lista.append(linha)\n",
    "    lista.append(\"!\")\n",
    "file.close()"
   ]
  },
  {
   "cell_type": "markdown",
   "metadata": {},
   "source": [
    "\"lista\" is a list containing the rows needed to find the infos we ar looking for"
   ]
  },
  {
   "cell_type": "markdown",
   "metadata": {},
   "source": [
    "# Starting variables needed to filtrate the data\n",
    "* **OBS:** we are going to filtrate the data based on Qual value bigger than 85.  \n",
    "Since the information inside the pdf file is organized in clusteres of three compounds only the compound with Qual value bigger than 85 is going to be picked"
   ]
  },
  {
   "cell_type": "code",
   "execution_count": 4,
   "metadata": {},
   "outputs": [],
   "source": [
    "compostos = 0\n",
    "cont = 1\n",
    "ref = []\n",
    "qual = []\n",
    "comp = []\n",
    "cas = []"
   ]
  },
  {
   "cell_type": "code",
   "execution_count": 5,
   "metadata": {},
   "outputs": [],
   "source": [
    "for i in lista[5:]: #the first 5 items from the list aren't necessary for us\n",
    "    if i == \"!\":\n",
    "        compostos+=1\n",
    "        cont = 1\n",
    "    elif cont%2 != 0:\n",
    "        cont+=1\n",
    "        composto = i\n",
    "    elif cont%2 == 0:\n",
    "        ref.append(composto[-8:-2])\n",
    "        comp.append(composto[2:-8])\n",
    "        qual.append(int(i[-2:]))\n",
    "        cas1 = composto[-1]\n",
    "        casr = i[:-2]\n",
    "        cas.append(cas1+casr)\n",
    "        cont +=1"
   ]
  },
  {
   "cell_type": "markdown",
   "metadata": {},
   "source": [
    "# Create the file that will contain the final information"
   ]
  },
  {
   "cell_type": "code",
   "execution_count": 6,
   "metadata": {
    "collapsed": true
   },
   "outputs": [
    {
     "data": {
      "text/plain": [
       "18"
      ]
     },
     "execution_count": 6,
     "metadata": {},
     "output_type": "execute_result"
    }
   ],
   "source": [
    "arquivo = open(\"Sample.txt\",\"w\")\n",
    "arquivo.write(\"Comp;Ref;CAS;Qual\\n\")"
   ]
  },
  {
   "cell_type": "markdown",
   "metadata": {},
   "source": [
    "# write its information\n",
    "\n",
    "* **OBS:** I should have used a pandas dataframe for this task but I was still learning how to use it so I decided not to\n"
   ]
  },
  {
   "cell_type": "code",
   "execution_count": 7,
   "metadata": {},
   "outputs": [
    {
     "data": {
      "text/plain": [
       "447"
      ]
     },
     "execution_count": 7,
     "metadata": {},
     "output_type": "execute_result"
    }
   ],
   "source": [
    "len(comp)"
   ]
  },
  {
   "cell_type": "code",
   "execution_count": 8,
   "metadata": {},
   "outputs": [],
   "source": [
    "cont = 1\n",
    "for _ in range(len(ref)):\n",
    "    subref = ref[0:3]\n",
    "    subqual = qual[0:3]\n",
    "    subcomp = comp[0:3]\n",
    "    subcas = cas[0:3]\n",
    "    if len(qual) == 0:\n",
    "        break\n",
    "    if max(subqual) >=85:\n",
    "        pos = subqual.index(max(subqual))\n",
    "        if \" \" in subref[pos]:\n",
    "            arquivo.write('%s;%s;%s;%i\\n'%(subcomp[pos].replace(\" \",\"\"),subref[pos][1:],subcas[pos].replace(\" \",\"\"),subqual[pos]))\n",
    "            cont+=1\n",
    "        else:\n",
    "            arquivo.write('%s;%s;%s;%i\\n'%(subcomp[pos].replace(\" \",\"\"),subref[pos],subcas[pos].replace(\" \",\"\"),subqual[pos]))\n",
    "            cont+=1\n",
    "    del qual[0:3]\n",
    "    del ref[0:3]\n",
    "    del comp[0:3]\n",
    "    del cas[0:3]\n",
    "arquivo.close()"
   ]
  },
  {
   "cell_type": "markdown",
   "metadata": {},
   "source": [
    "# Final thoughts\n",
    "Though it is a simple filtration task, it's a useful script since the source material is in a pdf. Also, using the sample data the number of compounds went from 447 to 48 due to the clusterization and the 'Qual = 85' filtraton "
   ]
  },
  {
   "cell_type": "code",
   "execution_count": 9,
   "metadata": {},
   "outputs": [
    {
     "name": "stdout",
     "output_type": "stream",
     "text": [
      "Number of compounds pre filtration:\n",
      "447\n",
      "Number of compounds post filtration:\n",
      "48\n"
     ]
    }
   ],
   "source": [
    "print('Number of compounds pre filtration:')\n",
    "print(447)\n",
    "print('Number of compounds post filtration:')\n",
    "print(cont)"
   ]
  }
 ],
 "metadata": {
  "kernelspec": {
   "display_name": "Python 3",
   "language": "python",
   "name": "python3"
  },
  "language_info": {
   "codemirror_mode": {
    "name": "ipython",
    "version": 3
   },
   "file_extension": ".py",
   "mimetype": "text/x-python",
   "name": "python",
   "nbconvert_exporter": "python",
   "pygments_lexer": "ipython3",
   "version": "3.6.6"
  }
 },
 "nbformat": 4,
 "nbformat_minor": 2
}
